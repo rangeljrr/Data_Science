{
 "cells": [
  {
   "cell_type": "markdown",
   "metadata": {},
   "source": [
    "# Real or Not? NLP with Disaster Tweets\n",
    "\n",
    "_Twitter has become an important communication channel in times of emergency.  \n",
    "The ubiquitousness of smartphones enables people to announce an emergency they’re observing in real-time. Because of this, more agencies are interested in programatically monitoring Twitter.\n",
    "But, it’s not always clear whether a person’s words are actually announcing a disaster_\n",
    "\n",
    "The challenge:  \n",
    "To detect when a tweet or comment is trully a disaster or not!  \n",
    "https://www.kaggle.com/c/nlp-getting-started\n",
    "\n",
    "For this challenge I will build two models:  \n",
    "1. Random Forest Classifier\n",
    "2. LSTM (Recurrent Nueral Network)"
   ]
  },
  {
   "cell_type": "markdown",
   "metadata": {},
   "source": [
    "### Dependencies"
   ]
  },
  {
   "cell_type": "code",
   "execution_count": 627,
   "metadata": {},
   "outputs": [],
   "source": [
    "import pandas as pd\n",
    "import numpy as np\n",
    "import matplotlib.pyplot as plt \n",
    "import seaborn as sns\n",
    "\n",
    "from nltk.corpus import stopwords\n",
    "from nltk.stem.porter import PorterStemmer\n",
    "from sklearn.feature_extraction.text import CountVectorizer, TfidfVectorizer\n",
    "\n",
    "from sklearn.ensemble import RandomForestClassifier\n",
    "from sklearn.model_selection import train_test_split\n"
   ]
  },
  {
   "cell_type": "markdown",
   "metadata": {},
   "source": [
    "### Load Data"
   ]
  },
  {
   "cell_type": "code",
   "execution_count": 571,
   "metadata": {},
   "outputs": [
    {
     "data": {
      "text/html": [
       "<div>\n",
       "<style scoped>\n",
       "    .dataframe tbody tr th:only-of-type {\n",
       "        vertical-align: middle;\n",
       "    }\n",
       "\n",
       "    .dataframe tbody tr th {\n",
       "        vertical-align: top;\n",
       "    }\n",
       "\n",
       "    .dataframe thead th {\n",
       "        text-align: right;\n",
       "    }\n",
       "</style>\n",
       "<table border=\"1\" class=\"dataframe\">\n",
       "  <thead>\n",
       "    <tr style=\"text-align: right;\">\n",
       "      <th></th>\n",
       "      <th>id</th>\n",
       "      <th>keyword</th>\n",
       "      <th>location</th>\n",
       "      <th>text</th>\n",
       "      <th>target</th>\n",
       "    </tr>\n",
       "  </thead>\n",
       "  <tbody>\n",
       "    <tr>\n",
       "      <th>0</th>\n",
       "      <td>1</td>\n",
       "      <td>NaN</td>\n",
       "      <td>NaN</td>\n",
       "      <td>Our Deeds are the Reason of this #earthquake M...</td>\n",
       "      <td>1</td>\n",
       "    </tr>\n",
       "    <tr>\n",
       "      <th>1</th>\n",
       "      <td>4</td>\n",
       "      <td>NaN</td>\n",
       "      <td>NaN</td>\n",
       "      <td>Forest fire near La Ronge Sask. Canada</td>\n",
       "      <td>1</td>\n",
       "    </tr>\n",
       "  </tbody>\n",
       "</table>\n",
       "</div>"
      ],
      "text/plain": [
       "   id keyword location                                               text  \\\n",
       "0   1     NaN      NaN  Our Deeds are the Reason of this #earthquake M...   \n",
       "1   4     NaN      NaN             Forest fire near La Ronge Sask. Canada   \n",
       "\n",
       "   target  \n",
       "0       1  \n",
       "1       1  "
      ]
     },
     "metadata": {},
     "output_type": "display_data"
    }
   ],
   "source": [
    "train = pd.read_csv('train.csv')\n",
    "test = pd.read_csv('test.csv')\n",
    "display(train.head(2))\n",
    "\n",
    "\"\"\"\n",
    "Notes:\n",
    "id - a unique identifier foet\n",
    "location - the location thr each tweet\n",
    "text - the text of the twee tweet was sent from (may be blank)\n",
    "keyword - a particular keyword from the tweet (may be blank)\n",
    "target - in train.csv only, this denotes whether a tweet is about a real disaster (1) or not (0)\n",
    "\"\"\";"
   ]
  },
  {
   "cell_type": "code",
   "execution_count": 169,
   "metadata": {},
   "outputs": [
    {
     "name": "stdout",
     "output_type": "stream",
     "text": [
      "Number Train Rows: 7613\n",
      "Number Test Rows: 7613\n"
     ]
    }
   ],
   "source": [
    "# Dataset Shape\n",
    "print('Number Train Rows: {}'.format(train.shape[0]))\n",
    "print('Number Test Rows: {}'.format(train.shape[0]))"
   ]
  },
  {
   "cell_type": "code",
   "execution_count": 33,
   "metadata": {},
   "outputs": [
    {
     "name": "stdout",
     "output_type": "stream",
     "text": [
      "Event Number Rows: 3271 (0.43)\n",
      "Non-Event Number Rows: 4342 (0.57)\n"
     ]
    }
   ],
   "source": [
    "# n: the event actually happened\n",
    "n = train[train.target == 1].shape[0]\n",
    "\n",
    "# m: The event didn't actually happen\n",
    "m = train[train.target == 0].shape[0]\n",
    "\n",
    "print('Event Number Rows: {} ({})'.format(n, round(n/(m+n),2)))\n",
    "print('Non-Event Number Rows: {} ({})'.format(m, round(m/(m+n),2)))\n",
    "\n",
    "\"\"\"\n",
    "Notes:\n",
    "The classes are fairly balanced\n",
    "Target = 1: 43%\n",
    "Target = 0: 57%\n",
    "\"\"\";"
   ]
  },
  {
   "cell_type": "markdown",
   "metadata": {},
   "source": [
    "### Random Forest: Pre-Processing Data"
   ]
  },
  {
   "cell_type": "code",
   "execution_count": 224,
   "metadata": {},
   "outputs": [],
   "source": [
    "# Pre-process Copy\n",
    "data = train.copy()\n",
    "\n",
    "# Shuffle Data (For CV)\n",
    "#data = data.sample(frac=1).head().reset_index(drop = True)\n",
    "\n",
    "# Remove Punctuations, Numbers, Special Cases\n",
    "data['text'] = data['text'].str.replace(\"[^a-zA-Z]\", \" \")\n",
    "\n",
    "# Lower Case\n",
    "data['text'] = data['text'].apply( lambda x: x.lower())\n",
    "\n",
    "# Tokenize\n",
    "data['text'] = data['text'].apply( lambda x: x.split())\n",
    "\n",
    "# Stopword Removal & Stemm\n",
    "ps = PorterStemmer()\n",
    "data['text'] = data['text'].apply( lambda x: [ps.stem(word) for word in x if word not in set(stopwords.words('english'))])\n",
    "\n",
    "# Rejoining Text (Needed for CountVectorizer)\n",
    "data['text'] = data['text'].apply( lambda x: ' '.join(x))\n",
    "\n",
    "# Document Term Matrix\n",
    "vect = CountVectorizer()\n",
    "X = vect.fit_transform(data['text']).toarray()\n",
    "y = np.array(data.target)\n",
    "\n",
    "# View Headers\n",
    "# vect.get_feature_names()\n"
   ]
  },
  {
   "cell_type": "markdown",
   "metadata": {},
   "source": [
    "### Random Forest: Building Model"
   ]
  },
  {
   "cell_type": "code",
   "execution_count": 226,
   "metadata": {},
   "outputs": [
    {
     "data": {
      "text/plain": [
       "0.9957966636017339"
      ]
     },
     "execution_count": 226,
     "metadata": {},
     "output_type": "execute_result"
    }
   ],
   "source": [
    "# Random Forest Model\n",
    "rf = RandomForestClassifier(n_estimators=100, n_jobs=-1)\n",
    "\n",
    "\n",
    "# Fitting X,y (Usually want to fit Train data only)\n",
    "rf.fit(X, y)\n",
    "\n",
    "rf.score(X,y)"
   ]
  },
  {
   "cell_type": "markdown",
   "metadata": {},
   "source": [
    "### Random Forest: Producing Results"
   ]
  },
  {
   "cell_type": "code",
   "execution_count": null,
   "metadata": {},
   "outputs": [],
   "source": [
    "data = test.copy()\n",
    "\n",
    "# Remove Punctuations, Numbers, Special Cases\n",
    "data['text'] = data['text'].str.replace(\"[^a-zA-Z]\", \" \")\n",
    "\n",
    "# Lower Case\n",
    "data['text'] = data['text'].apply( lambda x: x.lower())\n",
    "\n",
    "# Tokenize\n",
    "data['text'] = data['text'].apply( lambda x: x.split())\n",
    "\n",
    "# Stopword Removal & Stemm\n",
    "ps = PorterStemmer()\n",
    "data['text'] = data['text'].apply( lambda x: [ps.stem(word) for word in x if word not in set(stopwords.words('english'))])\n",
    "\n",
    "# Rejoining Text (Needed for CountVectorizer)\n",
    "data['text'] = data['text'].apply( lambda x: ' '.join(x))\n",
    "\n",
    "# Document Term Matrix\n",
    "X = vect.transform(data['text']).toarray()\n",
    "\n",
    "preds = rf.predict(X)\n",
    "results = pd.DataFrame()\n",
    "results['id'] = test['id'].copy()\n",
    "results['target'] = preds\n",
    "\n",
    "results.to_csv('random_forest.csv', index = False)\n",
    "\n",
    "# Kaggle Score .79652"
   ]
  },
  {
   "cell_type": "markdown",
   "metadata": {},
   "source": [
    "### LSTM: Importing Dependencies"
   ]
  },
  {
   "cell_type": "code",
   "execution_count": 621,
   "metadata": {},
   "outputs": [],
   "source": [
    "# Simple LSTM for sequence classification\n",
    "from tensorflow.keras.models import Sequential\n",
    "from tensorflow.keras.layers import Dense\n",
    "from tensorflow.keras.layers import LSTM\n",
    "from tensorflow.keras.layers import Embedding\n",
    "from tensorflow.keras.preprocessing import sequence\n",
    "\n",
    "# fix random seed for reproducibility\n",
    "np.random.seed(7)"
   ]
  },
  {
   "cell_type": "markdown",
   "metadata": {},
   "source": [
    "### LSTM: Pre-Processing Data"
   ]
  },
  {
   "cell_type": "code",
   "execution_count": 622,
   "metadata": {},
   "outputs": [],
   "source": [
    "# Pre-process Copy\n",
    "data = train.copy()[['text','target']]\n",
    "\n",
    "# Shuffle Data (For CV)\n",
    "#data = data.sample(frac=1).head().reset_index(drop = True)\n",
    "\n",
    "# Remove Punctuations, Numbers, Special Cases\n",
    "data['text'] = data['text'].str.replace(\"[^a-zA-Z]\", \" \")\n",
    "\n",
    "# Lower Case\n",
    "data['text'] = data['text'].apply( lambda x: x.lower())\n",
    "\n",
    "# Tokenize\n",
    "data['text'] = data['text'].apply( lambda x: x.split())"
   ]
  },
  {
   "cell_type": "markdown",
   "metadata": {},
   "source": [
    "### LSTM: Exploring Word Distribution"
   ]
  },
  {
   "cell_type": "code",
   "execution_count": 631,
   "metadata": {},
   "outputs": [],
   "source": [
    "train_word_density = [len(i) for i in train.text]\n",
    "test_word_density = [len(i) for i in test.text]"
   ]
  },
  {
   "cell_type": "code",
   "execution_count": 647,
   "metadata": {},
   "outputs": [
    {
     "name": "stdout",
     "output_type": "stream",
     "text": [
      "\n",
      "\n"
     ]
    },
    {
     "data": {
      "image/png": "[encoded data removed]",
      "text/plain": [
       "<Figure size 1080x576 with 2 Axes>"
      ]
     },
     "metadata": {},
     "output_type": "display_data"
    }
   ],
   "source": [
    "# Figure Size\n",
    "figure, axis = plt.subplots(1,2, figsize=(15,8))\n",
    "\n",
    "# Confic\n",
    "plt.rcParams[\"patch.force_edgecolor\"] = True   \n",
    "sns.set_style('whitegrid')\n",
    "\n",
    "# Axis Titles\n",
    "print('\\n')\n",
    "# Main Title\n",
    "figure.suptitle('Tweet Length Density')\n",
    "\n",
    "# Labels\n",
    "axis[0].set_title('Train: Max Words {}'.format(max(train_word_density)))\n",
    "axis[0].set_xlabel('Number Words')\n",
    "\n",
    "axis[1].set_title('Test: Max Words {}'.format(max(test_word_density)))\n",
    "axis[1].set_xlabel('Number Words')\n",
    "\n",
    "# Train\n",
    "sns.distplot(train_word_density, kde = True, rug = False, color = 'blue', bins = None, hist = True, ax = axis[0]);\n",
    "\n",
    "# Test\n",
    "sns.distplot(test_word_density, kde = True, rug = False, color = 'red', bins = None, hist = True, ax = axis[1]);\n",
    "\n",
    "\n",
    "# Show Plot\n",
    "plt.show()"
   ]
  },
  {
   "cell_type": "markdown",
   "metadata": {},
   "source": [
    "### LSTM: Creating Word Bank"
   ]
  },
  {
   "cell_type": "code",
   "execution_count": 650,
   "metadata": {},
   "outputs": [
    {
     "name": "stdout",
     "output_type": "stream",
     "text": [
      "Number Unique Words: 22127\n"
     ]
    }
   ],
   "source": [
    "# Defining X: text_data, y: target_data\n",
    "text_data = data['text']\n",
    "target_data = data.target\n",
    "\n",
    "# Word Count\n",
    "all_words = []\n",
    "for tweet in text_data:\n",
    "    for word in tweet:\n",
    "        all_words.append(word)\n",
    "word_count = pd.DataFrame(all_words).iloc[:,0].value_counts()\n",
    "\n",
    "print('Number Unique Words: {}'.format(len(word_count.index)))"
   ]
  },
  {
   "cell_type": "code",
   "execution_count": 651,
   "metadata": {},
   "outputs": [],
   "source": [
    "# Top Words \n",
    "max_num_words = 10000\n",
    "top_words = word_count.index[0:max_num_words]\n",
    "\n",
    "# Creating Word Dictionary \n",
    "word_dict = []\n",
    "counter = 0\n",
    "for word in top_words:\n",
    "    word_dict.append([word,counter])\n",
    "    counter += 1\n",
    "    \n",
    "word_dict = dict(word_dict)\n",
    "\n",
    "\n",
    "\"\"\"\n",
    "Notes:\n",
    "Any word that is outside of the range (5000) will be replace by 5000\n",
    "\"\"\";\n"
   ]
  },
  {
   "cell_type": "code",
   "execution_count": null,
   "metadata": {},
   "outputs": [],
   "source": []
  },
  {
   "cell_type": "markdown",
   "metadata": {},
   "source": [
    "### LSTM: Converting Word -> Numerical"
   ]
  },
  {
   "cell_type": "code",
   "execution_count": 652,
   "metadata": {},
   "outputs": [],
   "source": [
    "# Define Our Function\n",
    "def convert(l,d):\n",
    "    new_l = []\n",
    "    for word in l:\n",
    "        try:\n",
    "            new_l.append(d[word])\n",
    "        except:\n",
    "            new_l.append(max_num_words)\n",
    "    return new_l\n",
    "\n",
    "# Convert To Numerical\n",
    "text_data = text_data.apply(lambda x: convert(x, word_dict))"
   ]
  },
  {
   "cell_type": "markdown",
   "metadata": {},
   "source": [
    "### LSTM: Padding"
   ]
  },
  {
   "cell_type": "code",
   "execution_count": 653,
   "metadata": {},
   "outputs": [],
   "source": [
    "# Max Words (Defined by histograms above)\n",
    "\n",
    "max_length = 157\n",
    "def padding(l, np, max_length):\n",
    "    for i in range(max_length - len(l)):\n",
    "        l.insert(0,0)\n",
    "    return l\n",
    "\n",
    "text_data = text_data.apply(lambda x: padding(x,np,max_length))"
   ]
  },
  {
   "cell_type": "code",
   "execution_count": 655,
   "metadata": {},
   "outputs": [],
   "source": [
    "# Reshaping\n",
    "dummy = []\n",
    "for row in text_data:\n",
    "    dummy.append(np.reshape(row,(1,max_length)))\n",
    "    \n",
    "text_data = np.reshape(dummy,(7613,max_length))"
   ]
  },
  {
   "cell_type": "markdown",
   "metadata": {},
   "source": [
    "### LSTM: Building Model"
   ]
  },
  {
   "cell_type": "code",
   "execution_count": 672,
   "metadata": {},
   "outputs": [],
   "source": [
    "# Convert to numpy array\n",
    "X_train, X_test, y_train, y_test = train_test_split(np.array(text_data), target_data, test_size=0.25, random_state=1)"
   ]
  },
  {
   "cell_type": "code",
   "execution_count": 675,
   "metadata": {},
   "outputs": [
    {
     "name": "stdout",
     "output_type": "stream",
     "text": [
      "Model: \"sequential_67\"\n",
      "_________________________________________________________________\n",
      "Layer (type)                 Output Shape              Param #   \n",
      "=================================================================\n",
      "embedding_66 (Embedding)     (None, 157, 16)           160016    \n",
      "_________________________________________________________________\n",
      "lstm_62 (LSTM)               (None, 25)                4200      \n",
      "_________________________________________________________________\n",
      "dense_62 (Dense)             (None, 1)                 26        \n",
      "=================================================================\n",
      "Total params: 164,242\n",
      "Trainable params: 164,242\n",
      "Non-trainable params: 0\n",
      "_________________________________________________________________\n",
      "None\n",
      "Train on 5709 samples, validate on 1904 samples\n",
      "Epoch 1/3\n",
      "5709/5709 [==============================] - 24s 4ms/sample - loss: 0.6529 - acc: 0.5980 - val_loss: 0.5786 - val_acc: 0.7395\n",
      "Epoch 2/3\n",
      "5709/5709 [==============================] - 15s 3ms/sample - loss: 0.4562 - acc: 0.8054 - val_loss: 0.4543 - val_acc: 0.7983\n",
      "Epoch 3/3\n",
      "5709/5709 [==============================] - 16s 3ms/sample - loss: 0.3055 - acc: 0.8832 - val_loss: 0.4747 - val_acc: 0.7894\n"
     ]
    }
   ],
   "source": [
    "# LSTM model\n",
    "embedding_vecor_length = 16\n",
    "model = Sequential()\n",
    "model.add(Embedding(max_num_words+1, embedding_vecor_length, input_length=max_length))\n",
    "model.add(LSTM(25))\n",
    "model.add(Dense(1, activation='sigmoid'))\n",
    "model.compile(loss='binary_crossentropy', optimizer='adam', metrics=['accuracy'])\n",
    "print(model.summary())\n",
    "model.fit(X_train, y_train, validation_data=(X_test, y_test), epochs=3, batch_size=64)\n",
    "        \n",
    "\"\"\"\n",
    "Notes:\n",
    "This network is not fully optimized and strictly built to use as a baseline\n",
    "\"\"\";"
   ]
  },
  {
   "cell_type": "markdown",
   "metadata": {},
   "source": [
    "### LSTM: Producing Results"
   ]
  },
  {
   "cell_type": "code",
   "execution_count": 694,
   "metadata": {},
   "outputs": [],
   "source": [
    "# Pre-process Copy\n",
    "data = test.copy()\n",
    "\n",
    "# Shuffle Data (For CV)\n",
    "#data = data.sample(frac=1).head().reset_index(drop = True)\n",
    "\n",
    "# Remove Punctuations, Numbers, Special Cases\n",
    "data['text'] = data['text'].str.replace(\"[^a-zA-Z]\", \" \")\n",
    "\n",
    "# Lower Case\n",
    "data['text'] = data['text'].apply( lambda x: x.lower())\n",
    "\n",
    "# Tokenize\n",
    "data['text'] = data['text'].apply( lambda x: x.split())\n",
    "\n",
    "# Convert To Numerical\n",
    "text_data = data['text'].apply(lambda x: convert(x, word_dict))\n",
    "\n",
    "# Padding\n",
    "text_data = text_data.apply(lambda x: padding(x,np,max_length))\n",
    "\n",
    "# Reshaping\n",
    "dummy = []\n",
    "for row in text_data:\n",
    "    dummy.append(np.reshape(row,(1,max_length)))\n",
    "    \n",
    "text_data = np.reshape(dummy,(3263,max_length))"
   ]
  },
  {
   "cell_type": "code",
   "execution_count": 695,
   "metadata": {},
   "outputs": [],
   "source": [
    "preds = model.predict(text_data)\n",
    "final = []\n",
    "for val in preds:\n",
    "    if val >= .50:\n",
    "        final.append(1)\n",
    "    else:\n",
    "        final.append(0)\n",
    "        \n",
    "results = pd.DataFrame()\n",
    "results['id'] = test['id'].copy()\n",
    "results['target'] = final\n",
    "\n",
    "results.to_csv('lstm.csv', index = False)\n",
    "\n",
    "# .7843 accuracy"
   ]
  }
 ],
 "metadata": {
  "kernelspec": {
   "display_name": "Python 3",
   "language": "python",
   "name": "python3"
  },
  "language_info": {
   "codemirror_mode": {
    "name": "ipython",
    "version": 3
   },
   "file_extension": ".py",
   "mimetype": "text/x-python",
   "name": "python",
   "nbconvert_exporter": "python",
   "pygments_lexer": "ipython3",
   "version": "3.7.1"
  }
 },
 "nbformat": 4,
 "nbformat_minor": 2
}
